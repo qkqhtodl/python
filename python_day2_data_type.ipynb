{
 "cells": [
  {
   "cell_type": "code",
   "execution_count": 34,
   "metadata": {},
   "outputs": [
    {
     "data": {
      "text/plain": [
       "(1, 2, 3, 'a', 'bb', 'a')"
      ]
     },
     "execution_count": 34,
     "metadata": {},
     "output_type": "execute_result"
    }
   ],
   "source": [
    "t=(1,2,3, 'a','bb','a') # 수정불가 튜풀 # 용도, 함수의 리턴이 복수일때 튜플 변환\n",
    "t"
   ]
  },
  {
   "cell_type": "code",
   "execution_count": 35,
   "metadata": {},
   "outputs": [
    {
     "data": {
      "text/plain": [
       "1"
      ]
     },
     "execution_count": 35,
     "metadata": {},
     "output_type": "execute_result"
    }
   ],
   "source": [
    "t.count(1)"
   ]
  },
  {
   "cell_type": "code",
   "execution_count": 36,
   "metadata": {},
   "outputs": [
    {
     "data": {
      "text/plain": [
       "3"
      ]
     },
     "execution_count": 36,
     "metadata": {},
     "output_type": "execute_result"
    }
   ],
   "source": [
    "t.index('a')"
   ]
  },
  {
   "cell_type": "code",
   "execution_count": 26,
   "metadata": {},
   "outputs": [
    {
     "data": {
      "text/plain": [
       "{1, 2, 3, 'a', 'bb'}"
      ]
     },
     "execution_count": 26,
     "metadata": {},
     "output_type": "execute_result"
    }
   ],
   "source": [
    "s = set(t)\n",
    "s"
   ]
  },
  {
   "cell_type": "code",
   "execution_count": 37,
   "metadata": {},
   "outputs": [
    {
     "data": {
      "text/plain": [
       "[1, 2, 3, 'a', 'bb']"
      ]
     },
     "execution_count": 37,
     "metadata": {},
     "output_type": "execute_result"
    }
   ],
   "source": [
    "i = list(s)\n",
    "i"
   ]
  },
  {
   "cell_type": "code",
   "execution_count": 41,
   "metadata": {},
   "outputs": [
    {
     "data": {
      "text/plain": [
       "([1, 2, 3, 'a', 'bb', 'a'], {1, 2, 3, 'a', 'bb'}, (1, 2, 3, 'a', 'bb', 'a'))"
      ]
     },
     "execution_count": 41,
     "metadata": {},
     "output_type": "execute_result"
    }
   ],
   "source": [
    "list(t),set(t),tuple(t)"
   ]
  },
  {
   "cell_type": "code",
   "execution_count": 82,
   "metadata": {},
   "outputs": [],
   "source": [
    "def add_3(a, b=10, c=20) : #함수만들기\n",
    "    '''\n",
    "    문서화 : 이 함수는 값 3개를 더해서 리턴 한다\n",
    "    작성자 : Park 2019.0612\n",
    "    '''\n",
    "    return a+b+c"
   ]
  },
  {
   "cell_type": "code",
   "execution_count": 91,
   "metadata": {},
   "outputs": [
    {
     "data": {
      "text/plain": [
       "(33, 6)"
      ]
     },
     "execution_count": 91,
     "metadata": {},
     "output_type": "execute_result"
    }
   ],
   "source": [
    "add_3(a=2,b=11), add_3(1,2,3)"
   ]
  },
  {
   "cell_type": "code",
   "execution_count": 56,
   "metadata": {},
   "outputs": [],
   "source": [
    "#return 없는 함수\n",
    "import math\n",
    "def check_nan(x):\n",
    "    if math.isnan(x) : # nan : not a number 숫자가 아니다. 0으로 나누거나 할때 발생\n",
    "        print(x, '는 nan입니다')\n",
    "    else :\n",
    "        print(x,'는 숫자입니다')\n",
    "        "
   ]
  },
  {
   "cell_type": "code",
   "execution_count": 93,
   "metadata": {},
   "outputs": [
    {
     "name": "stdout",
     "output_type": "stream",
     "text": [
      "11.0 는 숫자입니다\n"
     ]
    }
   ],
   "source": [
    "check_nan(11/1)\n"
   ]
  },
  {
   "cell_type": "code",
   "execution_count": 95,
   "metadata": {},
   "outputs": [],
   "source": [
    "#클래스 정의, 인스턴스 생성 사용"
   ]
  },
  {
   "cell_type": "code",
   "execution_count": 2809,
   "metadata": {},
   "outputs": [],
   "source": [
    "import random\n",
    "class Lotto:\n",
    "    '''\n",
    "    1~45 까지  6개 마쳐\n",
    "    '''\n",
    "    def __init__(self) :\n",
    "        print(\"생성자\")\n",
    "        self.target = [] #self 전역변수 됨\n",
    "        for i in range(6) :\n",
    "            v=random.randint(1,45)\n",
    "            while(v in self.target):\n",
    "                v=random.randint(1,45)\n",
    "            self.target.append(v)\n",
    "        print(self.target)\n",
    "    \n",
    "    def select(self, nums) :\n",
    "        count=0\n",
    "        dab=0\n",
    "        for dab in nums :\n",
    "            if self.target.count(dab) > 0:\n",
    "                count+=1\n",
    "        if count==6 :\n",
    "            print(\"와우 다맞춤\")\n",
    "\n",
    "        else :\n",
    "            print('정답', self.target, '너는', nums, '맞춘거는', count, '개')\n"
   ]
  },
  {
   "cell_type": "code",
   "execution_count": 3117,
   "metadata": {
    "scrolled": true
   },
   "outputs": [
    {
     "name": "stdout",
     "output_type": "stream",
     "text": [
      "생성자\n",
      "[24, 34, 14, 2, 41, 35]\n",
      "정답 [24, 34, 14, 2, 41, 35] 너는 [3, 15, 16, 24, 31, 33] 맞춘거는 1 개\n",
      "정답 [24, 34, 14, 2, 41, 35] 너는 [31, 2, 11, 40, 33, 25] 맞춘거는 1 개\n",
      "정답 [24, 34, 14, 2, 41, 35] 너는 [22, 31, 44, 2, 6, 13] 맞춘거는 1 개\n",
      "정답 [24, 34, 14, 2, 41, 35] 너는 [44, 32, 25, 26, 27, 18] 맞춘거는 0 개\n",
      "정답 [24, 34, 14, 2, 41, 35] 너는 [41, 30, 22, 21, 13, 5] 맞춘거는 1 개\n",
      "정답 [24, 34, 14, 2, 41, 35] 너는 [5, 19, 17, 28, 29, 10] 맞춘거는 0 개\n"
     ]
    }
   ],
   "source": [
    "lotto1 = Lotto() # 인스턴스 생성\n",
    "lotto1.select([3,15,16,24,31,33])\n",
    "my_nums = [[31,2,11,40,33,25],[22,31,44,2,6,13],[44,32,25,26,27,18],[41,30,22,21,13,5],[5,19,17,28,29,10]]\n",
    "len(my_nums), my_nums[0]\n",
    "for i in range(len(my_nums)):\n",
    "    lotto1.select(my_nums[i])"
   ]
  }
 ],
 "metadata": {
  "kernelspec": {
   "display_name": "Python 3",
   "language": "python",
   "name": "python3"
  },
  "language_info": {
   "codemirror_mode": {
    "name": "ipython",
    "version": 3
   },
   "file_extension": ".py",
   "mimetype": "text/x-python",
   "name": "python",
   "nbconvert_exporter": "python",
   "pygments_lexer": "ipython3",
   "version": "3.7.3"
  }
 },
 "nbformat": 4,
 "nbformat_minor": 2
}
